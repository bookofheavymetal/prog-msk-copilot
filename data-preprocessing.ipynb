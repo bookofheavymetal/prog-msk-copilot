{
 "cells": [
  {
   "cell_type": "markdown",
   "id": "023eb55c",
   "metadata": {},
   "source": [
    "### Чтобы завелась magic"
   ]
  },
  {
   "cell_type": "code",
   "execution_count": null,
   "id": "93cdee6d",
   "metadata": {},
   "outputs": [],
   "source": [
    "!brew install libmagic"
   ]
  },
  {
   "cell_type": "code",
   "execution_count": null,
   "id": "44777902",
   "metadata": {},
   "outputs": [],
   "source": [
    "import os\n",
    "import magic\n",
    "import chardet\n",
    "import lm_dataformat as lmd\n",
    "from tqdm.notebook import tqdm\n",
    "from joblib import Parallel, delayed\n",
    "\n",
    "\n",
    "mime = magic.Magic(mime=True)"
   ]
  },
  {
   "cell_type": "code",
   "execution_count": null,
   "id": "2c63e05e",
   "metadata": {},
   "outputs": [],
   "source": [
    "source_path = 'github-data'\n",
    "dataset = 'github-data-lm'"
   ]
  },
  {
   "cell_type": "code",
   "execution_count": null,
   "id": "5650b9ea",
   "metadata": {},
   "outputs": [],
   "source": [
    "def simple_filter(content):\n",
    "    num_digits = len(list(filter(lambda x: x.isdigit(), content)))\n",
    "    num_newlines = len(list(filter(lambda x: x == '\\n', content)))\n",
    "    \n",
    "    if num_digits / len(content) > 0.8:\n",
    "        return False\n",
    "\n",
    "    if len(content) / (num_newlines + .001) > 200:\n",
    "        return False\n",
    "\n",
    "    return True"
   ]
  },
  {
   "cell_type": "code",
   "execution_count": null,
   "id": "16acfc6d",
   "metadata": {},
   "outputs": [],
   "source": [
    "def remove_not_py(dirname: str, filenames: list[str]) -> None:\n",
    "    for filename in filenames:\n",
    "        if filename.endswith('.py'):\n",
    "            continue\n",
    "        else:\n",
    "            os.remove(os.path.join(dirname, filename))"
   ]
  },
  {
   "cell_type": "code",
   "execution_count": null,
   "id": "dc36d02e",
   "metadata": {},
   "outputs": [],
   "source": [
    "Parallel(n_jobs=4)(\n",
    "    delayed(remove_not_py)(dirname, filenames) for dirname, _, filenames in tqdm(os.walk(source_path)))"
   ]
  },
  {
   "cell_type": "code",
   "execution_count": null,
   "id": "24ff2ae5",
   "metadata": {},
   "outputs": [],
   "source": [
    "ar = lmd.Archive(dataset)\n",
    "for dirname, _, filenames in tqdm(os.walk(source_path)):\n",
    "    for filename in filenames:\n",
    "        if filename.endswith('.py'):\n",
    "            meta = {}\n",
    "            file = os.path.join(dirname, filename)\n",
    "            \n",
    "            try:\n",
    "                _type = mime.from_file(file)\n",
    "            except FileNotFoundError:\n",
    "                continue\n",
    "                \n",
    "            if not _type.startswith('text'):\n",
    "                continue\n",
    "                \n",
    "            with open(file, 'rb') as f:\n",
    "                buf = f.read()\n",
    "                \n",
    "            try:\n",
    "                buf = buf.decode('UTF-8')\n",
    "            except UnicodeDecodeError:\n",
    "                enc = chardet.detect(buf)\n",
    "                \n",
    "                if enc['encoding'] is None:\n",
    "                    continue\n",
    "                    \n",
    "                try:\n",
    "                    buf = buf.decode(enc['encoding'])\n",
    "                except UnicodeDecodeError:\n",
    "                    continue\n",
    "                    \n",
    "            if not simple_filter(buf):\n",
    "                continue\n",
    "                \n",
    "            meta['file_name'] = filename\n",
    "            meta['mime_type'] = _type\n",
    "\n",
    "            ar.add_data(buf, meta=meta)\n",
    "            ar.commit()"
   ]
  }
 ],
 "metadata": {
  "kernelspec": {
   "display_name": "Python 3 (ipykernel)",
   "language": "python",
   "name": "python3"
  },
  "language_info": {
   "codemirror_mode": {
    "name": "ipython",
    "version": 3
   },
   "file_extension": ".py",
   "mimetype": "text/x-python",
   "name": "python",
   "nbconvert_exporter": "python",
   "pygments_lexer": "ipython3",
   "version": "3.9.13"
  }
 },
 "nbformat": 4,
 "nbformat_minor": 5
}
